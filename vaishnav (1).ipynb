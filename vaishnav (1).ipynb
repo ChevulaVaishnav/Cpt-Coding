{
 "cells": [
  {
   "cell_type": "code",
   "execution_count": 1,
   "id": "f4a8e69d-6f9c-40f9-b0b2-34e6eda3607d",
   "metadata": {},
   "outputs": [
    {
     "name": "stdout",
     "output_type": "stream",
     "text": [
      "Engine Started\n",
      "The car is being drove\n"
     ]
    }
   ],
   "source": [
    "class vehicle:\n",
    "    def start_engine(self):\n",
    "        print(\"Engine Started\")\n",
    "class car(vehicle):\n",
    "    def drive(self):\n",
    "        print(\"The car is being drove\")\n",
    "c=car()\n",
    "c.start_engine() #inherited method\n",
    "c.drive()        #sub class own method"
   ]
  },
  {
   "cell_type": "code",
   "execution_count": 3,
   "id": "ece3b6af-f578-4d8a-b388-8f59411dae14",
   "metadata": {},
   "outputs": [
    {
     "name": "stdout",
     "output_type": "stream",
     "text": [
      "I am a student\n",
      "The student is studying!!\n"
     ]
    }
   ],
   "source": [
    "class person:\n",
    "    def info(self):\n",
    "        print(\"I am a student\")\n",
    "class student(person):\n",
    "    def study(self):\n",
    "        print(\"The student is studying!!\")\n",
    "s=student()\n",
    "s.info()\n",
    "s.study()"
   ]
  },
  {
   "cell_type": "code",
   "execution_count": 21,
   "id": "54679261-2e36-4fca-870e-ff995d4fd10f",
   "metadata": {},
   "outputs": [
    {
     "name": "stdin",
     "output_type": "stream",
     "text": [
      "Enter a value:  85\n",
      "Enter b value:  85\n"
     ]
    },
    {
     "name": "stdout",
     "output_type": "stream",
     "text": [
      "The result is 170\n"
     ]
    }
   ],
   "source": [
    "class addition():\n",
    "    def sum(self):\n",
    "        self.a=int(input(\"Enter a value: \"))\n",
    "        self.b=int(input(\"Enter b value: \"))\n",
    "class operation(addition):\n",
    "    def add(self):      \n",
    "        result=self.a+self.b\n",
    "        print(f\"The result is {result}\")\n",
    "o=operation()\n",
    "o.sum()\n",
    "o.add()"
   ]
  },
  {
   "cell_type": "code",
   "execution_count": 50,
   "id": "66816cf4-a862-417e-b773-5b678febd298",
   "metadata": {},
   "outputs": [
    {
     "name": "stdin",
     "output_type": "stream",
     "text": [
      "Enter a value: 45\n",
      "Enter b value: 0\n"
     ]
    },
    {
     "name": "stdout",
     "output_type": "stream",
     "text": [
      "The denominator cannot be zero\n"
     ]
    }
   ],
   "source": [
    "class division():\n",
    "        def div(self):\n",
    "            self.a=int(input(\"Enter a value:\"))\n",
    "            self.b=int(input(\"Enter b value:\"))\n",
    "class evaluation(division): \n",
    "   def divid(self):\n",
    "       try:\n",
    "            result=self.a/self.b\n",
    "            print(f\"The result is {result}\")\n",
    "       except ZeroDivisionError:\n",
    "            print(\"The denominator cannot be zero\")\n",
    "e=evaluation()\n",
    "e.div()\n",
    "e.divid()"
   ]
  },
  {
   "cell_type": "code",
   "execution_count": 60,
   "id": "4795c631-18ec-4b50-b3a8-16c73dcee9b0",
   "metadata": {},
   "outputs": [
    {
     "name": "stdin",
     "output_type": "stream",
     "text": [
      "Enter name: Vaishnav\n",
      "Enter employee id: 1219\n",
      "Enter department: IT\n"
     ]
    },
    {
     "name": "stdout",
     "output_type": "stream",
     "text": [
      "Name:Vaishnav\n",
      "Employee ID:1219\n",
      "Department:IT\n"
     ]
    }
   ],
   "source": [
    "class intern:\n",
    "    def __init__(self,name):\n",
    "        self.name=name\n",
    "    def display_intern(self):\n",
    "        print(f\"Name:{self.name}\")\n",
    "class employee(intern):\n",
    "    def __init__(self,name,emp_id):\n",
    "        super().__init__(name)\n",
    "        self.emp_id=emp_id\n",
    "    def display_employee(self):\n",
    "        print(f\"Employee ID:{self.emp_id}\")\n",
    "class manager(employee):\n",
    "    def __init__(self,name,emp_id,dept):\n",
    "        super().__init__(name,emp_id)\n",
    "        self.dept=dept\n",
    "    def display_manager(self):\n",
    "        print(f\"Department:{self.dept}\")\n",
    "name=input(\"Enter name:\")\n",
    "emp_id=input(\"Enter employee id:\")\n",
    "dept=input(\"Enter department:\")\n",
    "m=manager(name,emp_id,dept)\n",
    "m.display_intern()\n",
    "m.display_employee()\n",
    "m.display_manager()"
   ]
  },
  {
   "cell_type": "code",
   "execution_count": 74,
   "id": "281cf5fc-7ecc-4943-9ec2-9ef08b72186b",
   "metadata": {},
   "outputs": [
    {
     "ename": "TypeError",
     "evalue": "input.__init__() takes 1 positional argument but 2 were given",
     "output_type": "error",
     "traceback": [
      "\u001b[1;31m---------------------------------------------------------------------------\u001b[0m",
      "\u001b[1;31mTypeError\u001b[0m                                 Traceback (most recent call last)",
      "Cell \u001b[1;32mIn[74], line 18\u001b[0m\n\u001b[0;32m     16\u001b[0m         \u001b[38;5;28mprint\u001b[39m(\u001b[38;5;124mf\u001b[39m\u001b[38;5;124m\"\u001b[39m\u001b[38;5;124mSum:\u001b[39m\u001b[38;5;132;01m{\u001b[39;00m\u001b[38;5;28mself\u001b[39m\u001b[38;5;241m.\u001b[39madd\u001b[38;5;132;01m}\u001b[39;00m\u001b[38;5;124m\"\u001b[39m)\n\u001b[0;32m     17\u001b[0m         \u001b[38;5;28mprint\u001b[39m(\u001b[38;5;124mf\u001b[39m\u001b[38;5;124m\"\u001b[39m\u001b[38;5;124mMul:\u001b[39m\u001b[38;5;132;01m{\u001b[39;00m\u001b[38;5;28mself\u001b[39m\u001b[38;5;241m.\u001b[39mmul\u001b[38;5;132;01m}\u001b[39;00m\u001b[38;5;124m\"\u001b[39m)\n\u001b[1;32m---> 18\u001b[0m r\u001b[38;5;241m=\u001b[39mresult()\n\u001b[0;32m     19\u001b[0m r\u001b[38;5;241m.\u001b[39mdisplay()\n",
      "Cell \u001b[1;32mIn[74], line 14\u001b[0m, in \u001b[0;36mresult.__init__\u001b[1;34m(self)\u001b[0m\n\u001b[0;32m     13\u001b[0m \u001b[38;5;28;01mdef\u001b[39;00m \u001b[38;5;21m__init__\u001b[39m(\u001b[38;5;28mself\u001b[39m):\n\u001b[1;32m---> 14\u001b[0m     \u001b[38;5;28msuper\u001b[39m()\u001b[38;5;241m.\u001b[39m\u001b[38;5;21m__init__\u001b[39m()\n",
      "Cell \u001b[1;32mIn[74], line 7\u001b[0m, in \u001b[0;36moperate.__init__\u001b[1;34m(self)\u001b[0m\n\u001b[0;32m      6\u001b[0m \u001b[38;5;28;01mdef\u001b[39;00m \u001b[38;5;21m__init__\u001b[39m(\u001b[38;5;28mself\u001b[39m):\n\u001b[1;32m----> 7\u001b[0m     \u001b[38;5;28msuper\u001b[39m()\u001b[38;5;241m.\u001b[39m\u001b[38;5;21m__init__\u001b[39m()\n",
      "Cell \u001b[1;32mIn[74], line 3\u001b[0m, in \u001b[0;36mInput.__init__\u001b[1;34m(self)\u001b[0m\n\u001b[0;32m      2\u001b[0m \u001b[38;5;28;01mdef\u001b[39;00m \u001b[38;5;21m__init__\u001b[39m(\u001b[38;5;28mself\u001b[39m):\n\u001b[1;32m----> 3\u001b[0m     \u001b[38;5;28mself\u001b[39m\u001b[38;5;241m.\u001b[39mnum1\u001b[38;5;241m=\u001b[39m\u001b[38;5;28mint\u001b[39m(\u001b[38;5;28minput\u001b[39m(\u001b[38;5;124m\"\u001b[39m\u001b[38;5;124mEnter a value:\u001b[39m\u001b[38;5;124m\"\u001b[39m))\n\u001b[0;32m      4\u001b[0m     \u001b[38;5;28mself\u001b[39m\u001b[38;5;241m.\u001b[39mnum2\u001b[38;5;241m=\u001b[39m\u001b[38;5;28mint\u001b[39m(\u001b[38;5;28minput\u001b[39m(\u001b[38;5;124m\"\u001b[39m\u001b[38;5;124mEmter b value:\u001b[39m\u001b[38;5;124m\"\u001b[39m))\n",
      "\u001b[1;31mTypeError\u001b[0m: input.__init__() takes 1 positional argument but 2 were given"
     ]
    }
   ],
   "source": [
    "class Input:\n",
    "    def __init__(self):\n",
    "        self.num1=int(input(\"Enter a value:\"))\n",
    "        self.num2=int(input(\"Emter b value:\"))\n",
    "class operate(Input):\n",
    "    def __init__(self):\n",
    "        super().__init__()\n",
    "    def add(self):\n",
    "        return self.num1+self.num2\n",
    "    def mul(self):\n",
    "        return self.num1*self.num2\n",
    "class result(operate):\n",
    "    def __init__(self):\n",
    "        super().__init__()\n",
    "    def display(self):\n",
    "        print(f\"Sum:{self.add}\")\n",
    "        print(f\"Mul:{self.mul}\")\n",
    "r=result()\n",
    "r.display()"
   ]
  },
  {
   "cell_type": "code",
   "execution_count": null,
   "id": "e105ea6a-965a-4b75-9a12-e87d40bb73cf",
   "metadata": {},
   "outputs": [],
   "source": []
  }
 ],
 "metadata": {
  "kernelspec": {
   "display_name": "Python 3 (ipykernel)",
   "language": "python",
   "name": "python3"
  },
  "language_info": {
   "codemirror_mode": {
    "name": "ipython",
    "version": 3
   },
   "file_extension": ".py",
   "mimetype": "text/x-python",
   "name": "python",
   "nbconvert_exporter": "python",
   "pygments_lexer": "ipython3",
   "version": "3.12.7"
  }
 },
 "nbformat": 4,
 "nbformat_minor": 5
}
